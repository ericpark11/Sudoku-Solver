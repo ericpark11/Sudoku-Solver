{
 "cells": [
  {
   "cell_type": "code",
   "execution_count": 44,
   "metadata": {
    "deletable": false,
    "editable": false,
    "nbgrader": {
     "cell_type": "code",
     "checksum": "ff01cab1896b4024b4e70ce627fd30ff",
     "grade": false,
     "grade_id": "cell-25d7ab664129387d",
     "locked": true,
     "schema_version": 3,
     "solution": false,
     "task": false
    }
   },
   "outputs": [],
   "source": [
    "class SudokuPuzzle(object):\n",
    "    def __init__(self, board: list = None):\n",
    "        \"\"\"\n",
    "        Make a copy of the input board. If input board is None, create board of 0s.\n",
    "        \"\"\"\n",
    "        if board is not None and \\\n",
    "                len(board) == 9 and \\\n",
    "                all(len(row) == 9 for row in board) and \\\n",
    "                all(0 <= board[row][col] <= 9\n",
    "                    for col in range(9)\n",
    "                    for row in range(9)\n",
    "                ):\n",
    "            self.board: list = [[cell for cell in row] for row in board]\n",
    "        else:\n",
    "            self.board: list = [[0 for _ in range(9)] for _ in range(9)]\n",
    "\n",
    "    def __str__(self) -> str:\n",
    "        puzzle: str = \"╔\" + (\"═══╦\" * 8) + \"═\" * 3 + \"╗\\n\"\n",
    "        for row_index, row in enumerate(self.board):\n",
    "            puzzle += \"║\"\n",
    "            for col_index, cell in enumerate(row):\n",
    "                puzzle += f\" {cell if cell not in [0, None] else ' '} ║\"\n",
    "            if row_index < 8:\n",
    "                puzzle += \"\\n╠\" + (\"═══╬\" * 8) + \"═══╣\\n\"\n",
    "            else:\n",
    "                puzzle += '\\n'\n",
    "        return puzzle + \"╚\" + \"═══╩\" * 8 + \"═\" * 3 + \"╝\\n\"\n",
    "\n",
    "    def __eq__(self, other) -> bool:\n",
    "        return all(\n",
    "            self.board[row][col] == other.board[row][col]\n",
    "            for row in range(9) \n",
    "            for col in range(9)\n",
    "        )"
   ]
  },
  {
   "cell_type": "code",
   "execution_count": 45,
   "metadata": {
    "deletable": false,
    "nbgrader": {
     "cell_type": "code",
     "checksum": "a047aa38b00e5d35a0222cc08d1f3644",
     "grade": false,
     "grade_id": "cell-61dcd1b3bd53a53c",
     "locked": false,
     "schema_version": 3,
     "solution": true,
     "task": false
    }
   },
   "outputs": [],
   "source": [
    "import json\n",
    "def load_puzzle(file_name, puzzle_name):\n",
    "    dict = {}\n",
    "    #open file\n",
    "    try:\n",
    "        with open(file_name,\"r\") as file:\n",
    "            dict = json.loads(file.read())\n",
    "        try:\n",
    "            if not file_name.endswith(\".json\"):\n",
    "                file_name += \".json\"\n",
    "        except:\n",
    "            pass\n",
    "    except:\n",
    "        pass\n",
    "    #getting the value from the json file\n",
    "    try:\n",
    "        for i in dict:\n",
    "            if i == puzzle_name:\n",
    "                value = dict.get(i)\n",
    "                return SudokuPuzzle(value)\n",
    "    except:\n",
    "        pass"
   ]
  },
  {
   "cell_type": "code",
   "execution_count": 182,
   "metadata": {
    "deletable": false,
    "nbgrader": {
     "cell_type": "code",
     "checksum": "721a12ef5ef62c48da061a583813e4fb",
     "grade": false,
     "grade_id": "cell-16327c0decdb7c94",
     "locked": false,
     "schema_version": 3,
     "solution": true,
     "task": false
    }
   },
   "outputs": [],
   "source": [
    "def all_filled(self):\n",
    "    for i in (self.board):\n",
    "        if 0 in i:\n",
    "            return False \n",
    "        else:\n",
    "            return True\n",
    "\n",
    "\n",
    "SudokuPuzzle.all_filled = all_filled"
   ]
  },
  {
   "cell_type": "code",
   "execution_count": 102,
   "metadata": {
    "deletable": false,
    "nbgrader": {
     "cell_type": "code",
     "checksum": "4bc3d31a2e401618a4cc3f606f81941d",
     "grade": false,
     "grade_id": "cell-b2e9b89b839c45d9",
     "locked": false,
     "schema_version": 3,
     "solution": true,
     "task": false
    }
   },
   "outputs": [],
   "source": [
    "def horizontal_check(self, row, value):\n",
    "    if 0 <= row and row <= 8 and 1 <= value and value <= 9:\n",
    "        return value not in self.board[row]\n",
    "    \n",
    "SudokuPuzzle.horizontal_check = horizontal_check"
   ]
  },
  {
   "cell_type": "code",
   "execution_count": 174,
   "metadata": {
    "deletable": false,
    "nbgrader": {
     "cell_type": "code",
     "checksum": "93234d2a98b1cfee9fc3f467084ae9a2",
     "grade": false,
     "grade_id": "cell-8537d0bba2cb183f",
     "locked": false,
     "schema_version": 3,
     "solution": true,
     "task": false
    }
   },
   "outputs": [],
   "source": [
    "def vertical_check(self, col, value):\n",
    "    cols = []\n",
    "    for lists in self.board:\n",
    "        num = lists[col]\n",
    "        cols.append(num)\n",
    "    if 0 <= col and col <= 8 and 1 <= value and value <= 9:\n",
    "         return value not in cols\n",
    "             \n",
    "\n",
    "# The following line of code will take your function and insert it into the class\n",
    "# Do not modify it.\n",
    "SudokuPuzzle.vertical_check = vertical_check"
   ]
  },
  {
   "cell_type": "code",
   "execution_count": 270,
   "metadata": {
    "deletable": false,
    "nbgrader": {
     "cell_type": "code",
     "checksum": "01f965f10b7fb03b7c93d2fa82d85843",
     "grade": false,
     "grade_id": "cell-9babbe5533fa7549",
     "locked": false,
     "schema_version": 3,
     "solution": true,
     "task": false
    }
   },
   "outputs": [],
   "source": [
    "def sub_square_check(self, x, y, value):\n",
    "    list = []\n",
    "    if 0 <= x and x <= 8 and 0 <= y and y <= 8 and 1 <= value and value <= 9:\n",
    "\n",
    "        startRow = x - x%3 \n",
    "        endRow = x - x%3 + 3 \n",
    "        startCol  = y - y%3\n",
    "        endCol = y - y%3 + 3\n",
    "        \n",
    "        for col in range (startCol, endCol):\n",
    "            for row in range (startRow, endRow):\n",
    "                list.append(self.board[col][row])\n",
    "        return value not in list\n",
    "    \n",
    "SudokuPuzzle.sub_square_check = sub_square_check"
   ]
  },
  {
   "cell_type": "code",
   "execution_count": 207,
   "metadata": {
    "deletable": false,
    "nbgrader": {
     "cell_type": "code",
     "checksum": "a33f8ce4f78a54d084b688adb7477c57",
     "grade": false,
     "grade_id": "cell-485777ae33b81568",
     "locked": false,
     "schema_version": 3,
     "solution": true,
     "task": false
    }
   },
   "outputs": [],
   "source": [
    "class NoChoices (Exception):\n",
    "    pass\n",
    "class TooManyChoices (Exception):\n",
    "    pass\n",
    "\n",
    "def elimination_strategy(self, x, y):\n",
    "    nums = []\n",
    "    if all_filled(self) == True:\n",
    "        raise NoChoices\n",
    "    \n",
    "    for i in range(1, 10):\n",
    "        if self.horizontal_check(y, i) == True and self.vertical_check(x, i) == True and self.sub_square_check(x, y, i) == True:\n",
    "            nums.append(i)\n",
    "    \n",
    "    if len(nums) == 1:\n",
    "        return nums[0]\n",
    "    \n",
    "    if len(nums) == 0:\n",
    "        raise NoChoices\n",
    "    \n",
    "    if len(nums) > 1:\n",
    "        raise TooManyChoices\n",
    "\n",
    "\n",
    "\n",
    "SudokuPuzzle.elimination_strategy = elimination_strategy"
   ]
  },
  {
   "cell_type": "code",
   "execution_count": 346,
   "metadata": {
    "deletable": false,
    "nbgrader": {
     "cell_type": "code",
     "checksum": "377b5161c5da565b781406a04b84d5e2",
     "grade": false,
     "grade_id": "cell-60b4d8895af13564",
     "locked": false,
     "schema_version": 3,
     "solution": true,
     "task": false
    }
   },
   "outputs": [],
   "source": [
    "def apply_strategy(self, strategy):\n",
    "    bool = True\n",
    "    count = 0\n",
    "    for row in range (len(self.board)):\n",
    "        for col in range (len(self.board[row])):\n",
    "            if self.board[row][col] == 0:\n",
    "                count += 1\n",
    "                try:\n",
    "                    self.board[row][col] = strategy(self, col, row)\n",
    "                    \n",
    "                except:\n",
    "                    pass\n",
    "    if count == 0:\n",
    "        return False\n",
    "    for rows in self.board:\n",
    "        return 0 not in rows\n",
    "        \n",
    "    return False \n",
    "\n",
    "SudokuPuzzle.apply_strategy = apply_strategy"
   ]
  },
  {
   "cell_type": "code",
   "execution_count": 405,
   "metadata": {
    "deletable": false,
    "nbgrader": {
     "cell_type": "code",
     "checksum": "9809b13b0dd69eefa0b7e25757d8c36e",
     "grade": false,
     "grade_id": "cell-4691629c907ec284",
     "locked": false,
     "schema_version": 3,
     "solution": true,
     "task": false
    }
   },
   "outputs": [],
   "source": [
    "class UnsolvablePuzzle (Exception):\n",
    "    pass\n",
    "def solve(self, strategies):\n",
    "    #looping it until we have the solution\n",
    "    while True:\n",
    "        oldBoard = str(self.board)\n",
    "        for strat in strategies:\n",
    "            newBoard = ''\n",
    "            try:\n",
    "                if self.apply_strategy(strat):\n",
    "                    self.apply_strategy(strat)\n",
    "            except:\n",
    "                pass\n",
    "        newBoard = str(self.board) \n",
    "        if oldBoard == newBoard and self.all_filled() == True:\n",
    "            return True \n",
    "        elif oldBoard == newBoard and self.all_filled() == False:\n",
    "            raise UnsolvablePuzzle\n",
    "            \n",
    "            \n",
    "SudokuPuzzle.solve = solve"
   ]
  }
 ],
 "metadata": {
  "kernelspec": {
   "display_name": "Python 3.10.8 64-bit",
   "language": "python",
   "name": "python3"
  },
  "language_info": {
   "codemirror_mode": {
    "name": "ipython",
    "version": 3
   },
   "file_extension": ".py",
   "mimetype": "text/x-python",
   "name": "python",
   "nbconvert_exporter": "python",
   "pygments_lexer": "ipython3",
   "version": "3.10.8"
  },
  "vscode": {
   "interpreter": {
    "hash": "b0fa6594d8f4cbf19f97940f81e996739fb7646882a419484c72d19e05852a7e"
   }
  }
 },
 "nbformat": 4,
 "nbformat_minor": 2
}
